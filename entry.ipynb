{
 "cells": [
  {
   "cell_type": "code",
   "execution_count": null,
   "id": "b727583f",
   "metadata": {
    "vscode": {
     "languageId": "plaintext"
    }
   },
   "outputs": [],
   "source": [
    "!python example_usage.py --checkpoint 80000 --excess-threshold 0.5"
   ]
  }
 ],
 "metadata": {
  "language_info": {
   "name": "python"
  }
 },
 "nbformat": 4,
 "nbformat_minor": 5
}
